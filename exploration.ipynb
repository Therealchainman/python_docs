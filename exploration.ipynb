{
 "cells": [
  {
   "cell_type": "markdown",
   "id": "96c7c77d-2afb-48f3-a9a7-f49a29464e8c",
   "metadata": {},
   "source": [
    "# IMPORTS"
   ]
  },
  {
   "cell_type": "code",
   "execution_count": 33,
   "id": "6c880ffc-aacc-48f4-9077-9c6eaae2894c",
   "metadata": {},
   "outputs": [],
   "source": [
    "from random import *\n",
    "from memory import *\n",
    "import resource\n",
    "import os\n",
    "import psutil\n",
    "import numpy as np"
   ]
  },
  {
   "cell_type": "code",
   "execution_count": 2,
   "id": "700aaccc-b744-4a14-8653-d91bffc32100",
   "metadata": {},
   "outputs": [],
   "source": [
    "%load_ext memory_profiler"
   ]
  },
  {
   "cell_type": "code",
   "execution_count": null,
   "id": "cde3a8e4-eea2-4abd-98d2-b3806ecea520",
   "metadata": {},
   "outputs": [],
   "source": []
  }
 ],
 "metadata": {
  "kernelspec": {
   "display_name": "Python 3 (ipykernel)",
   "language": "python",
   "name": "python3"
  },
  "language_info": {
   "codemirror_mode": {
    "name": "ipython",
    "version": 3
   },
   "file_extension": ".py",
   "mimetype": "text/x-python",
   "name": "python",
   "nbconvert_exporter": "python",
   "pygments_lexer": "ipython3",
   "version": "3.10.0"
  }
 },
 "nbformat": 4,
 "nbformat_minor": 5
}
